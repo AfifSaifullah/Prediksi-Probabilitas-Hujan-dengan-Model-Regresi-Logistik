{
 "cells": [
  {
   "attachments": {},
   "cell_type": "markdown",
   "metadata": {},
   "source": [
    "### Model Regresi Logistik Untuk Memprediksi Kemungkinan Hujan\n",
    "Nama  : Afif Syaifullah Fattah, NIM   : 120140229"
   ]
  },
  {
   "attachments": {},
   "cell_type": "markdown",
   "metadata": {},
   "source": [
    "#### Preparasi Data"
   ]
  },
  {
   "cell_type": "code",
   "execution_count": null,
   "metadata": {},
   "outputs": [],
   "source": [
    "import pandas as pd\n",
    "from sklearn.linear_model import LogisticRegression\n",
    "from sklearn.model_selection import train_test_split\n",
    "from sklearn.metrics import accuracy_score, precision_score, recall_score, f1_score, confusion_matrix\n",
    "\n",
    "winDict = {'E ' : 0, 'NE' : 45, 'N ' : 90, 'NW' : 135, 'W ' : 180, 'SW' : 225, 'S ' : 270, 'SE' : 315}\n",
    "\n",
    "# Preparasi data\n",
    "# Sumber data : https://www.kaggle.com/datasets/greegtitan/indonesia-climate?select=climate_data.csv\n",
    "dtf = pd.read_csv(\"climate_data/climate_data.csv\")\n",
    "dtf = dtf[dtf['station_id'] == 96295]       # Filter data dari satu stasiun cuaca (Bandara Radin Intan II)\n",
    "dtf = dtf[dtf['ddd_car'] != 'C ']           # Filter data yang kurang lengkap\n",
    "dtf = dtf.dropna()                          # Hapus datapoint dengan nilai fitur NaN\n",
    "dtf = dtf.replace({\"ddd_car\" : winDict})    # Ubah data arah angin menjadi nilai derajat\n",
    "dtf['isRain'] = (dtf['RR'] > 0.0)           # Nilai boolean turun hujan\n",
    "\n",
    "features = dtf[['Tn', 'Tx', 'Tavg', 'RH_avg', 'ss', 'ff_x', 'ff_avg', 'ddd_x', 'ddd_car']].values\n",
    "targets = dtf['isRain'].values\n",
    "\n",
    "# Membagi dataset menjadi data training dan data testing\n",
    "training_ftr, test_ftr, training_tgt, test_tgt = train_test_split(features, targets, random_state=229)\n",
    "\n",
    "print(f\"Jumlah total data : {dtf.shape[0]}\")\n",
    "print(dtf.head())"
   ]
  },
  {
   "attachments": {},
   "cell_type": "markdown",
   "metadata": {},
   "source": [
    "#### Pelatihan Model dengan Training Data"
   ]
  },
  {
   "cell_type": "code",
   "execution_count": null,
   "metadata": {},
   "outputs": [],
   "source": [
    "# Pelatihan model dengan data training\n",
    "print(\"Initializing...\")\n",
    "model = LogisticRegression(max_iter=800)\n",
    "model.fit(training_ftr, training_tgt)\n",
    "print(\"Done!\")\n",
    "\n",
    "print(\"\\nContoh Hasil Prediksi :\")\n",
    "print(\"Data     : \", test_ftr[0])\n",
    "print(\"Prediksi : \", model.predict_proba([test_ftr[0]])[:, 1])"
   ]
  },
  {
   "attachments": {},
   "cell_type": "markdown",
   "metadata": {},
   "source": [
    "#### Testing dan Evaluasi"
   ]
  },
  {
   "cell_type": "code",
   "execution_count": null,
   "metadata": {},
   "outputs": [],
   "source": [
    "prediction_results = model.predict(test_ftr)\n",
    "\n",
    "print(\"accuracy  : \", accuracy_score(test_tgt, prediction_results))\n",
    "print(\"precision : \", precision_score(test_tgt, prediction_results))\n",
    "print(\"recall    : \", recall_score(test_tgt, prediction_results))\n",
    "print(\"f1 score  : \", f1_score(test_tgt, prediction_results))\n",
    "\n",
    "# Membalikan posisi nilai matriks, karena secara default true negative berada di kiri\n",
    "con_mat = confusion_matrix(test_tgt, prediction_results)\n",
    "con_mat[0], con_mat[1] = con_mat[0][::-1], con_mat[1][::-1]\n",
    "con_mat = con_mat[::-1]\n",
    "\n",
    "print(\"\\nconfusion matrix :\")\n",
    "print(con_mat)"
   ]
  },
  {
   "cell_type": "code",
   "execution_count": null,
   "metadata": {},
   "outputs": [],
   "source": [
    "print(\"\\nModel coefficients :\")\n",
    "print(model.coef_, model.intercept_)"
   ]
  }
 ],
 "metadata": {
  "kernelspec": {
   "display_name": "my_venv",
   "language": "python",
   "name": "python3"
  },
  "language_info": {
   "codemirror_mode": {
    "name": "ipython",
    "version": 3
   },
   "file_extension": ".py",
   "mimetype": "text/x-python",
   "name": "python",
   "nbconvert_exporter": "python",
   "pygments_lexer": "ipython3",
   "version": "3.10.0"
  },
  "orig_nbformat": 4
 },
 "nbformat": 4,
 "nbformat_minor": 2
}
