{
 "cells": [
  {
   "attachments": {},
   "cell_type": "markdown",
   "metadata": {},
   "source": [
    "#### Preparasi Data dan Pembangunan Model"
   ]
  },
  {
   "cell_type": "code",
   "execution_count": 109,
   "metadata": {},
   "outputs": [
    {
     "name": "stdout",
     "output_type": "stream",
     "text": [
      "Jumlah total data : 2172\n",
      "              date    Tn    Tx  Tavg  RH_avg    RR   ss  ff_x  ddd_x  ff_avg  \\\n",
      "150608  03-01-2010  24.0  32.2  27.5    81.0  28.2  6.1   4.0  230.0     2.0   \n",
      "150609  04-01-2010  25.0  33.6  28.3    76.0   0.0  3.2   4.0  240.0     1.0   \n",
      "150610  05-01-2010  24.0  31.8  26.5    84.0   0.0  0.0   4.0  250.0     0.0   \n",
      "150611  06-01-2010  23.0  31.4  26.4    83.0   5.0  0.6   3.0  230.0     0.0   \n",
      "150612  07-01-2010  24.0  32.6  27.8    71.0   0.0  3.1   4.0  150.0     2.0   \n",
      "\n",
      "        ddd_car  station_id  isRain  \n",
      "150608      180       96295    True  \n",
      "150609       90       96295   False  \n",
      "150610      180       96295   False  \n",
      "150611      225       96295    True  \n",
      "150612       90       96295   False  \n"
     ]
    }
   ],
   "source": [
    "import pandas as pd\n",
    "from sklearn.linear_model import LogisticRegression\n",
    "from sklearn.model_selection import train_test_split\n",
    "from sklearn.metrics import accuracy_score, precision_score, recall_score, f1_score, confusion_matrix\n",
    "\n",
    "winDict = {'E ' : 0, 'NE' : 45, 'N ' : 90, 'NW' : 135, 'W ' : 180, 'SW' : 225, 'S ' : 270, 'SE' : 315}\n",
    "\n",
    "# Preparasi data\n",
    "# Sumber data : https://www.kaggle.com/datasets/greegtitan/indonesia-climate?select=climate_data.csv\n",
    "dtf = pd.read_csv(\"climate_data/climate_data.csv\")\n",
    "dtf = dtf[dtf['station_id'] == 96295]\n",
    "dtf = dtf[dtf['ddd_car'] != 'C ']\n",
    "dtf = dtf.dropna()                          # Hapus datapoint dengan nilai fitur NaN\n",
    "dtf = dtf.replace({\"ddd_car\" : winDict})    # Ubah data arah angin menjadi nilai derajat\n",
    "dtf['isRain'] = (dtf['RR'] > 0.0)           # Nilai boolean turun hujan\n",
    "\n",
    "features = dtf[['Tn', 'Tx', 'Tavg', 'RH_avg', 'ss', 'ff_x', 'ff_avg', 'ddd_x', 'ddd_car']].values\n",
    "targets = dtf['isRain'].values\n",
    "\n",
    "# Membagi dataset menjadi data training dan data testing\n",
    "training_ftr, test_ftr, training_tgt, test_tgt = train_test_split(features, targets, random_state=229)\n",
    "\n",
    "print(f\"Jumlah total data : {dtf.shape[0]}\")\n",
    "print(dtf.head())"
   ]
  },
  {
   "cell_type": "code",
   "execution_count": 123,
   "metadata": {},
   "outputs": [
    {
     "name": "stdout",
     "output_type": "stream",
     "text": [
      "Initializing...\n",
      "Done!\n",
      "\n",
      "Contoh Hasil Prediksi :\n",
      "Data     :  [ 23.   32.4  26.6  80.    6.9   6.    2.  120.  315. ]\n",
      "Prediksi :  [0.28291101]\n"
     ]
    }
   ],
   "source": [
    "# Pelatihan model dengan data training\n",
    "print(\"Initializing...\")\n",
    "model = LogisticRegression(max_iter=800)\n",
    "model.fit(training_ftr, training_tgt)\n",
    "print(\"Done!\")\n",
    "\n",
    "print(\"\\nContoh Hasil Prediksi :\")\n",
    "print(\"Data     : \", test_ftr[0])\n",
    "print(\"Prediksi : \", model.predict_proba([test_ftr[0]])[:, 1])"
   ]
  },
  {
   "attachments": {},
   "cell_type": "markdown",
   "metadata": {},
   "source": [
    "#### Testing dan Evaluasi"
   ]
  },
  {
   "cell_type": "code",
   "execution_count": 124,
   "metadata": {},
   "outputs": [
    {
     "name": "stdout",
     "output_type": "stream",
     "text": [
      "accuracy  :  0.7476979742173112\n",
      "precision :  0.7589285714285714\n",
      "recall    :  0.819935691318328\n",
      "f1 score  :  0.7882534775888718\n",
      "\n",
      "confusion matrix :\n",
      "[[255  56]\n",
      " [ 81 151]]\n"
     ]
    }
   ],
   "source": [
    "prediction_results = model.predict(test_ftr)\n",
    "\n",
    "print(\"accuracy  : \", accuracy_score(test_tgt, prediction_results))\n",
    "print(\"precision : \", precision_score(test_tgt, prediction_results))\n",
    "print(\"recall    : \", recall_score(test_tgt, prediction_results))\n",
    "print(\"f1 score  : \", f1_score(test_tgt, prediction_results))\n",
    "\n",
    "con_mat = confusion_matrix(test_tgt, prediction_results)\n",
    "con_mat[0], con_mat[1] = con_mat[0][::-1], con_mat[1][::-1]\n",
    "con_mat = con_mat[::-1]\n",
    "\n",
    "print(\"\\nconfusion matrix :\")\n",
    "print(con_mat)"
   ]
  },
  {
   "cell_type": "code",
   "execution_count": 125,
   "metadata": {},
   "outputs": [
    {
     "name": "stdout",
     "output_type": "stream",
     "text": [
      "\n",
      "Model coefficients :\n",
      "[[ 0.0548035  -0.13336999  0.28970931  0.18437431 -0.01488661  0.0110005\n",
      "  -0.32888764  0.00223563 -0.0040738 ]] [-18.61611065]\n"
     ]
    }
   ],
   "source": [
    "print(\"\\nModel coefficients :\")\n",
    "print(model.coef_, model.intercept_)"
   ]
  }
 ],
 "metadata": {
  "kernelspec": {
   "display_name": "my_venv",
   "language": "python",
   "name": "python3"
  },
  "language_info": {
   "codemirror_mode": {
    "name": "ipython",
    "version": 3
   },
   "file_extension": ".py",
   "mimetype": "text/x-python",
   "name": "python",
   "nbconvert_exporter": "python",
   "pygments_lexer": "ipython3",
   "version": "3.10.0"
  },
  "orig_nbformat": 4
 },
 "nbformat": 4,
 "nbformat_minor": 2
}
